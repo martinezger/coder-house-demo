{
  "nbformat": 4,
  "nbformat_minor": 0,
  "metadata": {
    "colab": {
      "name": "CoderHouseDemoClass.ipynb",
      "provenance": [],
      "authorship_tag": "ABX9TyN2QgNgvFBi53DRTYNGltFi",
      "include_colab_link": true
    },
    "kernelspec": {
      "name": "python3",
      "display_name": "Python 3"
    },
    "language_info": {
      "name": "python"
    }
  },
  "cells": [
    {
      "cell_type": "markdown",
      "metadata": {
        "id": "view-in-github",
        "colab_type": "text"
      },
      "source": [
        "<a href=\"https://colab.research.google.com/github/martinezger/coder-house-demo/blob/main/CoderHouseDemoClass.ipynb\" target=\"_parent\"><img src=\"https://colab.research.google.com/assets/colab-badge.svg\" alt=\"Open In Colab\"/></a>"
      ]
    },
    {
      "cell_type": "markdown",
      "source": [
        "# Ejemplo 1\n",
        "\n",
        "Itrear lista con bucle for."
      ],
      "metadata": {
        "id": "dwjgNtFj3CN_"
      }
    },
    {
      "cell_type": "code",
      "execution_count": 1,
      "metadata": {
        "id": "xZ51RPBh29Wj",
        "colab": {
          "base_uri": "https://localhost:8080/"
        },
        "outputId": "21a1baf5-0b46-40bf-8b88-bba8de69b379"
      },
      "outputs": [
        {
          "output_type": "stream",
          "name": "stdout",
          "text": [
            "elemento: 1\n",
            "elemento: 2\n",
            "elemento: 3\n"
          ]
        }
      ],
      "source": [
        "elementos = [1, 2, 3]\n",
        "\n",
        "for elemento in elementos:\n",
        "  print(\"elemento:\",elemento) "
      ]
    },
    {
      "cell_type": "markdown",
      "source": [
        "# Ejemplo 2\n",
        "\n",
        "Modificar el valor de item dentro del bucle."
      ],
      "metadata": {
        "id": "_cf5YsOl6_4K"
      }
    },
    {
      "cell_type": "code",
      "source": [
        "elementos = [1, 2, 3]\n",
        "\n",
        "for elemento in elementos:\n",
        "  print(\"elemento =\",elemento) \n",
        "  elemento *= 5\n",
        "  print(\"elemento x 5 =\", elemento)\n",
        "\n",
        "print(elementos)"
      ],
      "metadata": {
        "id": "_79Gwwk778vq",
        "colab": {
          "base_uri": "https://localhost:8080/"
        },
        "outputId": "bfa6f16a-57fc-41f9-e5eb-b53ed7043977"
      },
      "execution_count": 2,
      "outputs": [
        {
          "output_type": "stream",
          "name": "stdout",
          "text": [
            "elemento = 1\n",
            "elemento x 5 = 5\n",
            "elemento = 2\n",
            "elemento x 5 = 10\n",
            "elemento = 3\n",
            "elemento x 5 = 15\n",
            "[1, 2, 3]\n"
          ]
        }
      ]
    },
    {
      "cell_type": "markdown",
      "source": [
        "# Ejemplo 3\n",
        "\n",
        "Modificar el valor de la lista dentro del bucle."
      ],
      "metadata": {
        "id": "KPzuLBOvB2AL"
      }
    },
    {
      "cell_type": "code",
      "source": [
        "indice = 0\n",
        "elementos = [1, 2, 3]\n",
        "for elemento in elementos:  \n",
        "  elementos[indice] *= 5\n",
        "  indice +=1\n",
        "\n",
        "print(elementos)"
      ],
      "metadata": {
        "colab": {
          "base_uri": "https://localhost:8080/"
        },
        "id": "xqdlMRiMB7en",
        "outputId": "38ff9457-b75a-4f85-ca67-b4e6c8db8d6a"
      },
      "execution_count": 3,
      "outputs": [
        {
          "output_type": "stream",
          "name": "stdout",
          "text": [
            "[5, 10, 15]\n"
          ]
        }
      ]
    },
    {
      "cell_type": "markdown",
      "source": [
        "# Ejemplo 4. Range\n",
        "\n",
        "- range(fin): Crea una secuencia numérica que va desde 0 hasta fin - 1.\n",
        "  - for numero in range(10)\n",
        "\n"
      ],
      "metadata": {
        "id": "lRiVZ_wXFIuF"
      }
    },
    {
      "cell_type": "code",
      "source": [
        "for  item in range(10):\n",
        "  print(item)"
      ],
      "metadata": {
        "colab": {
          "base_uri": "https://localhost:8080/"
        },
        "id": "gFG50BN_FIKy",
        "outputId": "fd561d03-ee4b-46e7-964e-dbcdcd932ac7"
      },
      "execution_count": 9,
      "outputs": [
        {
          "output_type": "stream",
          "name": "stdout",
          "text": [
            "0\n",
            "1\n",
            "2\n",
            "3\n",
            "4\n",
            "5\n",
            "6\n",
            "7\n",
            "8\n",
            "9\n"
          ]
        }
      ]
    },
    {
      "cell_type": "markdown",
      "source": [
        "- range(inicio, fin): Crea una secuencia numérica que va desde inicio hasta fin - 1.\n",
        " - for numero in range(5, 10)"
      ],
      "metadata": {
        "id": "W2c8a3M-Ghzk"
      }
    },
    {
      "cell_type": "code",
      "source": [
        "for  item in range(5, 10):\n",
        "  print(item)"
      ],
      "metadata": {
        "colab": {
          "base_uri": "https://localhost:8080/"
        },
        "id": "mpTKIRZ2GQA5",
        "outputId": "76f87357-13ed-47d8-9c83-ca20c21b03d9"
      },
      "execution_count": 10,
      "outputs": [
        {
          "output_type": "stream",
          "name": "stdout",
          "text": [
            "5\n",
            "6\n",
            "7\n",
            "8\n",
            "9\n"
          ]
        }
      ]
    },
    {
      "cell_type": "markdown",
      "source": [
        "- range(inicio, fin, [paso]): Crea una secuencia numérica que va desde inicio hasta fin - 1. Si además se indica el parámetro paso, la secuencia genera los números de paso en paso.\n",
        " - for numero in range(0, 20, 2)"
      ],
      "metadata": {
        "id": "uiwxxXicGq4k"
      }
    },
    {
      "cell_type": "code",
      "source": [
        "for  item in range(0,20,2):\n",
        "  print(item)"
      ],
      "metadata": {
        "colab": {
          "base_uri": "https://localhost:8080/"
        },
        "id": "cpmNgFzLGVoK",
        "outputId": "f4c3dc99-f630-49b2-c050-c2b37ab011bd"
      },
      "execution_count": 11,
      "outputs": [
        {
          "output_type": "stream",
          "name": "stdout",
          "text": [
            "0\n",
            "2\n",
            "4\n",
            "6\n",
            "8\n",
            "10\n",
            "12\n",
            "14\n",
            "16\n",
            "18\n"
          ]
        }
      ]
    }
  ]
}